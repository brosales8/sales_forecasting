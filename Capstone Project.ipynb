{
 "cells": [
  {
   "cell_type": "code",
   "execution_count": 130,
   "metadata": {},
   "outputs": [],
   "source": [
    "# Import Libraries and modules\n",
    "import pandas as pd\n",
    "import numpy as np\n",
    "import matplotlib.pyplot as plt\n",
    "from functions import *\n",
    "%matplotlib inline"
   ]
  },
  {
   "cell_type": "markdown",
   "metadata": {},
   "source": [
    "## Load Datasets from CSV Files"
   ]
  },
  {
   "cell_type": "code",
   "execution_count": 131,
   "metadata": {},
   "outputs": [
    {
     "name": "stdout",
     "output_type": "stream",
     "text": [
      "Initiall Shape df_sales: (25030, 11), year: 2017\n",
      "Shapes df: (27331, 11), df_sales: (52361, 11), year: 2018\n",
      "Shapes df: (27993, 11), df_sales: (80354, 11), year: 2019\n",
      "Shapes df: (26658, 11), df_sales: (107012, 11), year: 2020\n",
      "Shapes df: (9495, 11), df_sales: (116507, 11), year: 2021\n"
     ]
    }
   ],
   "source": [
    "# Read CSV files containing sales transactions and temperatures\n",
    "pathfile = './datasets/'\n",
    "data_years = ['2018', '2019', '2020', '2021']\n",
    "\n",
    "\n",
    "# Load datasets with sales between 2014 and 2019\n",
    "filename = 'y_'\n",
    "df_sales = pd.read_csv(pathfile + filename + '2017.csv', infer_datetime_format = True, encoding = 'latin-1')\n",
    "print('Initiall Shape df_sales: {}, year: 2017'.format(df_sales.shape) )\n",
    "\n",
    "for year in data_years:\n",
    "    df = pd.read_csv(pathfile + filename + year + '.csv', infer_datetime_format = True, encoding = 'latin-1')\n",
    "    df_sales = pd.concat([df_sales, df], ignore_index=True)\n",
    "    print('Shapes df: {}, df_sales: {}, year: {}'.format(df.shape, df_sales.shape, year) )\n",
    "\n",
    "# Read dataset with Minimum Phoenix Temperatures\n",
    "df_min_temp = pd.read_csv(pathfile + 'phx_min_temp.csv', sep='\\t', encoding = 'utf-8')\n",
    "\n",
    "# Read dataset with Maximum Phoenix Temperatures\n",
    "df_max_temp = pd.read_csv(pathfile + 'phx_max_temp.csv', sep='\\t', encoding = 'utf-8')\n",
    "\n",
    "df_tmp = None"
   ]
  },
  {
   "cell_type": "code",
   "execution_count": 132,
   "metadata": {},
   "outputs": [
    {
     "data": {
      "text/html": [
       "<div>\n",
       "<style scoped>\n",
       "    .dataframe tbody tr th:only-of-type {\n",
       "        vertical-align: middle;\n",
       "    }\n",
       "\n",
       "    .dataframe tbody tr th {\n",
       "        vertical-align: top;\n",
       "    }\n",
       "\n",
       "    .dataframe thead th {\n",
       "        text-align: right;\n",
       "    }\n",
       "</style>\n",
       "<table border=\"1\" class=\"dataframe\">\n",
       "  <thead>\n",
       "    <tr style=\"text-align: right;\">\n",
       "      <th></th>\n",
       "      <th>Unnamed: 0</th>\n",
       "      <th>Type</th>\n",
       "      <th>Date</th>\n",
       "      <th>Num</th>\n",
       "      <th>Memo</th>\n",
       "      <th>Name</th>\n",
       "      <th>Item</th>\n",
       "      <th>Qty</th>\n",
       "      <th>Sales Price</th>\n",
       "      <th>Amount</th>\n",
       "      <th>Balance</th>\n",
       "    </tr>\n",
       "  </thead>\n",
       "  <tbody>\n",
       "    <tr>\n",
       "      <th>0</th>\n",
       "      <td>Inventory</td>\n",
       "      <td>NaN</td>\n",
       "      <td>NaN</td>\n",
       "      <td>NaN</td>\n",
       "      <td>NaN</td>\n",
       "      <td>NaN</td>\n",
       "      <td>NaN</td>\n",
       "      <td>NaN</td>\n",
       "      <td>NaN</td>\n",
       "      <td>NaN</td>\n",
       "      <td>NaN</td>\n",
       "    </tr>\n",
       "    <tr>\n",
       "      <th>1</th>\n",
       "      <td>00-Beer &amp; Spirits</td>\n",
       "      <td>NaN</td>\n",
       "      <td>NaN</td>\n",
       "      <td>NaN</td>\n",
       "      <td>NaN</td>\n",
       "      <td>NaN</td>\n",
       "      <td>NaN</td>\n",
       "      <td>NaN</td>\n",
       "      <td>NaN</td>\n",
       "      <td>NaN</td>\n",
       "      <td>NaN</td>\n",
       "    </tr>\n",
       "    <tr>\n",
       "      <th>2</th>\n",
       "      <td>00177USA - R2 Casino Azul Blanc (Casino Azul, ...</td>\n",
       "      <td>NaN</td>\n",
       "      <td>NaN</td>\n",
       "      <td>NaN</td>\n",
       "      <td>NaN</td>\n",
       "      <td>NaN</td>\n",
       "      <td>NaN</td>\n",
       "      <td>NaN</td>\n",
       "      <td>NaN</td>\n",
       "      <td>NaN</td>\n",
       "      <td>NaN</td>\n",
       "    </tr>\n",
       "    <tr>\n",
       "      <th>3</th>\n",
       "      <td>NaN</td>\n",
       "      <td>Invoice</td>\n",
       "      <td>01/18/2017</td>\n",
       "      <td>70229</td>\n",
       "      <td>Casino Azul, Tequila Blanco</td>\n",
       "      <td>Total Wine 1006</td>\n",
       "      <td>00-Beer &amp; Spirits:00177USA - R2 Casino Azul Bl...</td>\n",
       "      <td>6.0</td>\n",
       "      <td>29.95</td>\n",
       "      <td>179.7</td>\n",
       "      <td>179.7</td>\n",
       "    </tr>\n",
       "    <tr>\n",
       "      <th>4</th>\n",
       "      <td>NaN</td>\n",
       "      <td>Invoice</td>\n",
       "      <td>01/18/2017</td>\n",
       "      <td>70233</td>\n",
       "      <td>Casino Azul, Tequila Blanco</td>\n",
       "      <td>Total Wine 1004</td>\n",
       "      <td>00-Beer &amp; Spirits:00177USA - R2 Casino Azul Bl...</td>\n",
       "      <td>6.0</td>\n",
       "      <td>29.95</td>\n",
       "      <td>179.7</td>\n",
       "      <td>359.4</td>\n",
       "    </tr>\n",
       "  </tbody>\n",
       "</table>\n",
       "</div>"
      ],
      "text/plain": [
       "                                          Unnamed: 0     Type        Date  \\\n",
       "0                                          Inventory      NaN         NaN   \n",
       "1                                  00-Beer & Spirits      NaN         NaN   \n",
       "2  00177USA - R2 Casino Azul Blanc (Casino Azul, ...      NaN         NaN   \n",
       "3                                                NaN  Invoice  01/18/2017   \n",
       "4                                                NaN  Invoice  01/18/2017   \n",
       "\n",
       "     Num                         Memo             Name  \\\n",
       "0    NaN                          NaN              NaN   \n",
       "1    NaN                          NaN              NaN   \n",
       "2    NaN                          NaN              NaN   \n",
       "3  70229  Casino Azul, Tequila Blanco  Total Wine 1006   \n",
       "4  70233  Casino Azul, Tequila Blanco  Total Wine 1004   \n",
       "\n",
       "                                                Item  Qty Sales Price  Amount  \\\n",
       "0                                                NaN  NaN         NaN     NaN   \n",
       "1                                                NaN  NaN         NaN     NaN   \n",
       "2                                                NaN  NaN         NaN     NaN   \n",
       "3  00-Beer & Spirits:00177USA - R2 Casino Azul Bl...  6.0       29.95   179.7   \n",
       "4  00-Beer & Spirits:00177USA - R2 Casino Azul Bl...  6.0       29.95   179.7   \n",
       "\n",
       "   Balance  \n",
       "0      NaN  \n",
       "1      NaN  \n",
       "2      NaN  \n",
       "3    179.7  \n",
       "4    359.4  "
      ]
     },
     "execution_count": 132,
     "metadata": {},
     "output_type": "execute_result"
    }
   ],
   "source": [
    "df_sales.head()"
   ]
  },
  {
   "cell_type": "markdown",
   "metadata": {},
   "source": [
    "## Data Preprocessing"
   ]
  },
  {
   "cell_type": "code",
   "execution_count": 133,
   "metadata": {},
   "outputs": [
    {
     "name": "stdout",
     "output_type": "stream",
     "text": [
      "Final Dataset Shape: (9214, 5)\n"
     ]
    },
    {
     "data": {
      "text/html": [
       "<div>\n",
       "<style scoped>\n",
       "    .dataframe tbody tr th:only-of-type {\n",
       "        vertical-align: middle;\n",
       "    }\n",
       "\n",
       "    .dataframe tbody tr th {\n",
       "        vertical-align: top;\n",
       "    }\n",
       "\n",
       "    .dataframe thead th {\n",
       "        text-align: right;\n",
       "    }\n",
       "</style>\n",
       "<table border=\"1\" class=\"dataframe\">\n",
       "  <thead>\n",
       "    <tr style=\"text-align: right;\">\n",
       "      <th></th>\n",
       "      <th>quantity</th>\n",
       "      <th>price</th>\n",
       "      <th>item_code</th>\n",
       "      <th>month</th>\n",
       "      <th>year</th>\n",
       "    </tr>\n",
       "  </thead>\n",
       "  <tbody>\n",
       "    <tr>\n",
       "      <th>5623</th>\n",
       "      <td>7.0</td>\n",
       "      <td>6.99</td>\n",
       "      <td>20209</td>\n",
       "      <td>1</td>\n",
       "      <td>2017</td>\n",
       "    </tr>\n",
       "    <tr>\n",
       "      <th>5624</th>\n",
       "      <td>12.0</td>\n",
       "      <td>6.99</td>\n",
       "      <td>20209</td>\n",
       "      <td>1</td>\n",
       "      <td>2017</td>\n",
       "    </tr>\n",
       "    <tr>\n",
       "      <th>5625</th>\n",
       "      <td>12.0</td>\n",
       "      <td>6.99</td>\n",
       "      <td>20209</td>\n",
       "      <td>1</td>\n",
       "      <td>2017</td>\n",
       "    </tr>\n",
       "    <tr>\n",
       "      <th>5626</th>\n",
       "      <td>12.0</td>\n",
       "      <td>6.99</td>\n",
       "      <td>20209</td>\n",
       "      <td>1</td>\n",
       "      <td>2017</td>\n",
       "    </tr>\n",
       "    <tr>\n",
       "      <th>5627</th>\n",
       "      <td>6.0</td>\n",
       "      <td>6.99</td>\n",
       "      <td>20209</td>\n",
       "      <td>1</td>\n",
       "      <td>2017</td>\n",
       "    </tr>\n",
       "  </tbody>\n",
       "</table>\n",
       "</div>"
      ],
      "text/plain": [
       "      quantity  price item_code  month  year\n",
       "5623       7.0   6.99     20209      1  2017\n",
       "5624      12.0   6.99     20209      1  2017\n",
       "5625      12.0   6.99     20209      1  2017\n",
       "5626      12.0   6.99     20209      1  2017\n",
       "5627       6.0   6.99     20209      1  2017"
      ]
     },
     "execution_count": 133,
     "metadata": {},
     "output_type": "execute_result"
    }
   ],
   "source": [
    "# Dictionary with interesting Products for the project\n",
    "target_items = {'60190':'Dipinti, Pinot Grigio La Vis',\n",
    "                '70270':'Le Contesse, Prosecchino Brut, 187ml',\n",
    "                '20209':'Alverdi, Pinot Grigio',\n",
    "                '70165':'Santome, Prosecco Extra Dry',\n",
    "                '50215':'Carpineto, Dogajolo Rosso',\n",
    "                '70208':'Italo Cescon, Pinot Grigio',\n",
    "                '70271':'Le Contesse, Pinot Noir Rose Brut'\n",
    "               }\n",
    "df_sales = clean_sales(df_sales, list(target_items.keys()))\n",
    "df_sales.head()"
   ]
  },
  {
   "cell_type": "markdown",
   "metadata": {},
   "source": [
    "Check for NaN's Values"
   ]
  },
  {
   "cell_type": "code",
   "execution_count": 134,
   "metadata": {},
   "outputs": [
    {
     "name": "stdout",
     "output_type": "stream",
     "text": [
      "Null values:\n",
      "quantity     0\n",
      "price        1\n",
      "item_code    0\n",
      "month        0\n",
      "year         0\n",
      "dtype: int64\n",
      "        quantity  price item_code  month  year\n",
      "100379       2.0    NaN     70271      5  2020\n"
     ]
    }
   ],
   "source": [
    "print('Null values:\\n{}'.format(df_sales.isnull().sum())) # Display Null values per Column\n",
    "print(df_sales[df_sales['price'].isnull()]) # Display rows with Null values"
   ]
  },
  {
   "cell_type": "markdown",
   "metadata": {},
   "source": [
    "Imputate average price for 1 row with Nan value"
   ]
  },
  {
   "cell_type": "code",
   "execution_count": 135,
   "metadata": {},
   "outputs": [
    {
     "name": "stdout",
     "output_type": "stream",
     "text": [
      "Null values:\n",
      "quantity     0\n",
      "price        0\n",
      "item_code    0\n",
      "month        0\n",
      "year         0\n",
      "dtype: int64\n"
     ]
    }
   ],
   "source": [
    "df_sales.loc[100379,'price'] = df_sales.price[df_sales['item_code']=='70271'].mean()\n",
    "print('Null values:\\n{}'.format(df_sales.isnull().sum())) # Display Null values per Column"
   ]
  },
  {
   "cell_type": "markdown",
   "metadata": {},
   "source": [
    "Create Time Series for each product by Month"
   ]
  },
  {
   "cell_type": "code",
   "execution_count": 136,
   "metadata": {},
   "outputs": [
    {
     "data": {
      "text/html": [
       "<div>\n",
       "<style scoped>\n",
       "    .dataframe tbody tr th:only-of-type {\n",
       "        vertical-align: middle;\n",
       "    }\n",
       "\n",
       "    .dataframe tbody tr th {\n",
       "        vertical-align: top;\n",
       "    }\n",
       "\n",
       "    .dataframe thead th {\n",
       "        text-align: right;\n",
       "    }\n",
       "</style>\n",
       "<table border=\"1\" class=\"dataframe\">\n",
       "  <thead>\n",
       "    <tr style=\"text-align: right;\">\n",
       "      <th></th>\n",
       "      <th>item_code</th>\n",
       "      <th>year</th>\n",
       "      <th>quantity</th>\n",
       "      <th>avg_price</th>\n",
       "      <th>date</th>\n",
       "    </tr>\n",
       "  </thead>\n",
       "  <tbody>\n",
       "    <tr>\n",
       "      <th>0</th>\n",
       "      <td>20209</td>\n",
       "      <td>2017</td>\n",
       "      <td>109.0</td>\n",
       "      <td>6.990000</td>\n",
       "      <td>2017-01-01</td>\n",
       "    </tr>\n",
       "    <tr>\n",
       "      <th>1</th>\n",
       "      <td>20209</td>\n",
       "      <td>2017</td>\n",
       "      <td>136.0</td>\n",
       "      <td>7.144666</td>\n",
       "      <td>2017-02-01</td>\n",
       "    </tr>\n",
       "    <tr>\n",
       "      <th>2</th>\n",
       "      <td>20209</td>\n",
       "      <td>2017</td>\n",
       "      <td>129.0</td>\n",
       "      <td>6.990000</td>\n",
       "      <td>2017-03-01</td>\n",
       "    </tr>\n",
       "    <tr>\n",
       "      <th>3</th>\n",
       "      <td>20209</td>\n",
       "      <td>2017</td>\n",
       "      <td>190.0</td>\n",
       "      <td>6.990000</td>\n",
       "      <td>2017-04-01</td>\n",
       "    </tr>\n",
       "    <tr>\n",
       "      <th>4</th>\n",
       "      <td>20209</td>\n",
       "      <td>2017</td>\n",
       "      <td>172.0</td>\n",
       "      <td>6.990000</td>\n",
       "      <td>2017-05-01</td>\n",
       "    </tr>\n",
       "  </tbody>\n",
       "</table>\n",
       "</div>"
      ],
      "text/plain": [
       "  item_code  year  quantity  avg_price       date\n",
       "0     20209  2017     109.0   6.990000 2017-01-01\n",
       "1     20209  2017     136.0   7.144666 2017-02-01\n",
       "2     20209  2017     129.0   6.990000 2017-03-01\n",
       "3     20209  2017     190.0   6.990000 2017-04-01\n",
       "4     20209  2017     172.0   6.990000 2017-05-01"
      ]
     },
     "execution_count": 136,
     "metadata": {},
     "output_type": "execute_result"
    }
   ],
   "source": [
    "df = df_sales.groupby(by=['item_code','year','month'], as_index=False).agg(\n",
    "    quantity=('quantity','sum'), \n",
    "    avg_price=('price', np.mean)\n",
    ") # Group by item, month and year to result in a time series for each product\n",
    "df['day'] = \"01\"\n",
    "df['date'] = pd.to_datetime(df[['year','month','day']]) # Create a date column using year, month and day\n",
    "df.drop(['month','day'], axis=1, inplace=True) # Drop day and month columns\n",
    "df.head()"
   ]
  },
  {
   "cell_type": "markdown",
   "metadata": {},
   "source": [
    "Check the number of Data Points per Item"
   ]
  },
  {
   "cell_type": "code",
   "execution_count": 137,
   "metadata": {},
   "outputs": [
    {
     "name": "stdout",
     "output_type": "stream",
     "text": [
      "Item: 60190, Data Points:37, Dipinti, Pinot Grigio La Vis\n",
      "Item: 70270, Data Points:48, Le Contesse, Prosecchino Brut, 187ml\n",
      "Item: 20209, Data Points:52, Alverdi, Pinot Grigio\n",
      "Item: 70165, Data Points:52, Santome, Prosecco Extra Dry\n",
      "Item: 50215, Data Points:52, Carpineto, Dogajolo Rosso\n",
      "Item: 70208, Data Points:52, Italo Cescon, Pinot Grigio\n",
      "Item: 70271, Data Points:43, Le Contesse, Pinot Noir Rose Brut\n"
     ]
    }
   ],
   "source": [
    "for item, values in target_items.items():\n",
    "    print('Item: {}, Data Points:{}, {}'.format(item, df.date[df['item_code']==item].count(), values))"
   ]
  },
  {
   "cell_type": "code",
   "execution_count": 138,
   "metadata": {},
   "outputs": [
    {
     "data": {
      "text/plain": [
       "(329, 5)"
      ]
     },
     "execution_count": 138,
     "metadata": {},
     "output_type": "execute_result"
    }
   ],
   "source": [
    "# Remove rows with date ='2021-04-01' since April 2021 data is incomplete\n",
    "df.drop(df[df['date'] == '2021-04-01'].index, axis=0, inplace = True)\n",
    "df.shape"
   ]
  },
  {
   "cell_type": "markdown",
   "metadata": {},
   "source": [
    "## Additional Features\n",
    "\n",
    "The next section adds 3 new features to dataset:\n",
    "- Phoenix Minimum Temperature\n",
    "- Phoenix Maximum Temperature\n",
    "- Holidays"
   ]
  },
  {
   "cell_type": "code",
   "execution_count": 139,
   "metadata": {},
   "outputs": [
    {
     "data": {
      "text/html": [
       "<div>\n",
       "<style scoped>\n",
       "    .dataframe tbody tr th:only-of-type {\n",
       "        vertical-align: middle;\n",
       "    }\n",
       "\n",
       "    .dataframe tbody tr th {\n",
       "        vertical-align: top;\n",
       "    }\n",
       "\n",
       "    .dataframe thead th {\n",
       "        text-align: right;\n",
       "    }\n",
       "</style>\n",
       "<table border=\"1\" class=\"dataframe\">\n",
       "  <thead>\n",
       "    <tr style=\"text-align: right;\">\n",
       "      <th></th>\n",
       "      <th>date</th>\n",
       "      <th>max_temp</th>\n",
       "    </tr>\n",
       "  </thead>\n",
       "  <tbody>\n",
       "    <tr>\n",
       "      <th>0</th>\n",
       "      <td>2015-1-01</td>\n",
       "      <td>81</td>\n",
       "    </tr>\n",
       "    <tr>\n",
       "      <th>1</th>\n",
       "      <td>2016-1-01</td>\n",
       "      <td>76</td>\n",
       "    </tr>\n",
       "    <tr>\n",
       "      <th>2</th>\n",
       "      <td>2017-1-01</td>\n",
       "      <td>76</td>\n",
       "    </tr>\n",
       "    <tr>\n",
       "      <th>3</th>\n",
       "      <td>2018-1-01</td>\n",
       "      <td>83</td>\n",
       "    </tr>\n",
       "    <tr>\n",
       "      <th>4</th>\n",
       "      <td>2019-1-01</td>\n",
       "      <td>74</td>\n",
       "    </tr>\n",
       "    <tr>\n",
       "      <th>...</th>\n",
       "      <td>...</td>\n",
       "      <td>...</td>\n",
       "    </tr>\n",
       "    <tr>\n",
       "      <th>79</th>\n",
       "      <td>2017-12-01</td>\n",
       "      <td>84</td>\n",
       "    </tr>\n",
       "    <tr>\n",
       "      <th>80</th>\n",
       "      <td>2018-12-01</td>\n",
       "      <td>75</td>\n",
       "    </tr>\n",
       "    <tr>\n",
       "      <th>81</th>\n",
       "      <td>2019-12-01</td>\n",
       "      <td>75</td>\n",
       "    </tr>\n",
       "    <tr>\n",
       "      <th>82</th>\n",
       "      <td>2020-12-01</td>\n",
       "      <td>80</td>\n",
       "    </tr>\n",
       "    <tr>\n",
       "      <th>83</th>\n",
       "      <td>2021-12-01</td>\n",
       "      <td>M</td>\n",
       "    </tr>\n",
       "  </tbody>\n",
       "</table>\n",
       "<p>84 rows × 2 columns</p>\n",
       "</div>"
      ],
      "text/plain": [
       "          date max_temp\n",
       "0    2015-1-01       81\n",
       "1    2016-1-01       76\n",
       "2    2017-1-01       76\n",
       "3    2018-1-01       83\n",
       "4    2019-1-01       74\n",
       "..         ...      ...\n",
       "79  2017-12-01       84\n",
       "80  2018-12-01       75\n",
       "81  2019-12-01       75\n",
       "82  2020-12-01       80\n",
       "83  2021-12-01        M\n",
       "\n",
       "[84 rows x 2 columns]"
      ]
     },
     "execution_count": 139,
     "metadata": {},
     "output_type": "execute_result"
    }
   ],
   "source": [
    "import calendar\n",
    "import datetime\n",
    "\n",
    "\n",
    "def extract_temperature(df_temperature, new_colum_name):\n",
    "    '''\n",
    "    Create a DataFrame with monthly temperature data points\n",
    "    '''\n",
    "    # Create an empty dataframe to storage temperatures\n",
    "    df_to_return = pd.DataFrame({ 'date': [], new_colum_name:[] })    \n",
    "    \n",
    "    df_temperature_transposed = df_temperature.T # Transpose temperature DF to iter on it\n",
    "    str_month_to_num = {name: num for num, name in enumerate(calendar.month_abbr) if num}\n",
    "    years = df_temperature_transposed.iloc[0].tolist() # Create a list with the years\n",
    "    \n",
    "    for index, row in df_temperature_transposed.iterrows():    \n",
    "        if index != 'Year':\n",
    "            month = str(str_month_to_num[index])\n",
    "            for j, year in enumerate(years):\n",
    "                date = str(year) + '-' + month + '-' + '01'\n",
    "                temp = row[j]\n",
    "                new_row = {'date': date, new_colum_name: temp }\n",
    "                df_to_return = df_to_return.append(new_row, ignore_index=True)\n",
    "    return df_to_return\n",
    "extract_temperature(df_max_temp, new_colum_name='max_temp')"
   ]
  },
  {
   "cell_type": "code",
   "execution_count": null,
   "metadata": {},
   "outputs": [],
   "source": []
  },
  {
   "cell_type": "code",
   "execution_count": 21,
   "metadata": {},
   "outputs": [],
   "source": [
    "# Subset data points to be used for each time series\n",
    "# For this project, I will be using 36 observations for training and 3 for testing\n",
    "\n",
    "training_filter = (df['date']>='2018-01-01')\n",
    "test_filter = (df['date']>='2021-01-01')"
   ]
  },
  {
   "cell_type": "code",
   "execution_count": 58,
   "metadata": {},
   "outputs": [
    {
     "data": {
      "text/plain": [
       "1"
      ]
     },
     "execution_count": 58,
     "metadata": {},
     "output_type": "execute_result"
    }
   ],
   "source": []
  },
  {
   "cell_type": "code",
   "execution_count": null,
   "metadata": {},
   "outputs": [],
   "source": []
  },
  {
   "cell_type": "code",
   "execution_count": null,
   "metadata": {},
   "outputs": [],
   "source": [
    "df[df.loc[:,'item_code']=='60190']"
   ]
  },
  {
   "cell_type": "markdown",
   "metadata": {},
   "source": [
    "1.B Visualization by Product"
   ]
  },
  {
   "cell_type": "code",
   "execution_count": null,
   "metadata": {},
   "outputs": [],
   "source": [
    "# target_items = {'60190':'Dipinti, Pinot Grigio La Vis',\n",
    "#                 '70270':'Le Contesse, Prosecchino Brut, 187ml',\n",
    "#                 '20209':'Alverdi, Pinot Grigio',\n",
    "#                 '70165':'Santome, Prosecco Extra Dry',\n",
    "#                 '50215':'Carpineto, Dogajolo Rosso',\n",
    "#                 '70208':'Italo Cescon, Pinot Grigio',\n",
    "#                 '70271':'Le Contesse, Pinot Noir Rose Brut'\n",
    "#                }\n",
    "item = '70270'\n",
    "item_set = x[x['item_code']==item]\n",
    "\n",
    "fig = plt.figure()\n",
    "ax = fig.add_axes([0,0,1,1])\n",
    "\n",
    "ax.plot(item_set['date'], item_set['quantity'])\n",
    "ax.set_title(str(target_items[item]))\n",
    "ax.set_xlabel('Time')\n",
    "ax.set_ylabel('Sold Btls')\n",
    "# plt.show()"
   ]
  },
  {
   "cell_type": "code",
   "execution_count": null,
   "metadata": {},
   "outputs": [],
   "source": [
    "target_items[item]"
   ]
  },
  {
   "cell_type": "code",
   "execution_count": null,
   "metadata": {},
   "outputs": [],
   "source": [
    "# df_sales.set_index('date', inplace=True) # Set 'date' as index"
   ]
  },
  {
   "cell_type": "code",
   "execution_count": null,
   "metadata": {},
   "outputs": [],
   "source": [
    "\n",
    "alverdi = df_sales[df_sales['item_code']=='20209']\n",
    "print(alverdi.shape)"
   ]
  },
  {
   "cell_type": "code",
   "execution_count": null,
   "metadata": {},
   "outputs": [],
   "source": [
    "alverdi.head()"
   ]
  },
  {
   "cell_type": "code",
   "execution_count": null,
   "metadata": {},
   "outputs": [],
   "source": [
    "x = alverdi.groupby('item_code')\n",
    "print(len(x))\n",
    "x.head()\n"
   ]
  },
  {
   "cell_type": "code",
   "execution_count": null,
   "metadata": {},
   "outputs": [],
   "source": [
    "alverdi.groupby([pd.Grouper(freq='M'), 'quantity']).sum()"
   ]
  },
  {
   "cell_type": "code",
   "execution_count": null,
   "metadata": {},
   "outputs": [],
   "source": [
    "x =  x['item_code'].resample('M', how=[np.sum, len])\n",
    "x.head()"
   ]
  },
  {
   "cell_type": "code",
   "execution_count": null,
   "metadata": {},
   "outputs": [],
   "source": [
    "x = df_sales.groupby(by= df_sales.index.month).agg({'quantity':'sum','item_code':'min'})\n",
    "\n",
    "x = x[x['item_code']=='20209']\n",
    "\n",
    "x.head(20)\n",
    "# target_items = ['60190','70270','20209','70165','50215','70208','70271']"
   ]
  },
  {
   "cell_type": "code",
   "execution_count": null,
   "metadata": {},
   "outputs": [],
   "source": [
    "df_sales.head()"
   ]
  },
  {
   "cell_type": "code",
   "execution_count": null,
   "metadata": {},
   "outputs": [],
   "source": [
    "# Apply Date filter to select only the time period of interest\n",
    "# df_sales_2021[(df_sales_2021['date']>'2020/01/01') & (df_sales_2021['date']<'2020/06/01')]"
   ]
  },
  {
   "cell_type": "code",
   "execution_count": null,
   "metadata": {},
   "outputs": [],
   "source": [
    "print(df.shape)\n",
    "# df.query('item_code == \"60190\"').count()"
   ]
  },
  {
   "cell_type": "code",
   "execution_count": null,
   "metadata": {},
   "outputs": [],
   "source": [
    "\n",
    "#     df.set_index('date', inplace=True) # Set 'date' as index\n",
    "#     df = df.loc[start_date:end_date] # filter data points by dates\n",
    "#     print('shape after index: {}'.format(df.shape))\n",
    "df_sales.to_excel('sales.xlsx')"
   ]
  },
  {
   "cell_type": "code",
   "execution_count": null,
   "metadata": {},
   "outputs": [],
   "source": [
    "df_sales_2021.groupby(['item_code'], as_index=False).agg({'quantity':'sum','item_name':'max'})\n",
    "# target_items = ['60190','70270','20209','70165','50215','70208','70271']"
   ]
  },
  {
   "cell_type": "code",
   "execution_count": null,
   "metadata": {},
   "outputs": [],
   "source": []
  }
 ],
 "metadata": {
  "kernelspec": {
   "display_name": "Python 3",
   "language": "python",
   "name": "python3"
  },
  "language_info": {
   "codemirror_mode": {
    "name": "ipython",
    "version": 3
   },
   "file_extension": ".py",
   "mimetype": "text/x-python",
   "name": "python",
   "nbconvert_exporter": "python",
   "pygments_lexer": "ipython3",
   "version": "3.8.5"
  }
 },
 "nbformat": 4,
 "nbformat_minor": 4
}
